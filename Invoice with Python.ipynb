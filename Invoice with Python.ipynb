{
 "cells": [
  {
   "cell_type": "code",
   "execution_count": 7,
   "metadata": {},
   "outputs": [],
   "source": [
    "class graphics:\n",
    "    BOLD = '\\033[1m'\n",
    "    END = '\\033[0m'"
   ]
  },
  {
   "cell_type": "code",
   "execution_count": 49,
   "metadata": {},
   "outputs": [
    {
     "name": "stdout",
     "output_type": "stream",
     "text": [
      "Goldaura Technologies Ltd\n",
      "1 Muyiwa Chinemere, Close\n",
      "Lagos          \n",
      "\t\t\t\t\t\t\t\t\t\tGoldaura Technologies Ltd\n",
      "\u001b[1m\t\t\t\t\t\t\t\t\t\tTelephone: 08131053067\u001b[0m\n",
      "Chinat Nigeria \n",
      "3 Tenth Gate Street Ikeja\n",
      "Lagos          \n",
      "\u001b[1m\t\t\t\t\t\t\t\t\t\tInvoice\u001b[0m\n",
      "\n",
      "\t\t\t\t\t\t\t\t\t\tNumber: 57386\n",
      "\t\t\t\t\t\t\t\t\t\tDate:  2021-05-12\n",
      "\t\t\t\t\t\t\t\t\t\tSales Order Requisition\n",
      "\t\t\t\t\t\t\t\t\t\tYour Ref:  \n",
      "\t\t\t\t\t\t\t\t\t\tOur Ref: Nathan\n",
      "\t\t\t\t\t\t\t\t\t\tPayment: Direct Payment\n",
      "\u001b[1m\n",
      "Item Number\t\tDescription\tQuantity\tUnit Price\tAmount\tDiscount\u001b[0m\n",
      "\u001b[1m----------------------------------------------------------------------------------------------------\u001b[0m\n",
      "\t\tKaspersky Int. Sec. 4Users 5\t\t 5000 \t\t 25000\n",
      "\n",
      "\t\t\t \u001b[1m Total: 25000 \u001b[0m\n",
      "\n",
      "\n",
      "\n",
      " \u001b[1m Thank you for your patronage \u001b[0m\n"
     ]
    }
   ],
   "source": [
    "product1_name, product1_price = 'Miksi', 20\n",
    "product2_name, product2_price = 'Zebra printer', 52\n",
    "\n",
    "#Store Seller company details\n",
    "\n",
    "seller_company_name = 'Goldaura Technologies Ltd'\n",
    "seller_company_address = '1 Muyiwa Chinemere, Close'\n",
    "seller_company_city = 'Lagos'\n",
    "\n",
    "#Store Buyer company details\n",
    "buyer_company_name = 'Chinat Nigeria'\n",
    "buyer_company_address = '3 Tenth Gate Street Ikeja'\n",
    "buyer_company_city = 'Lagos'\n",
    "\n",
    "#Store date\n",
    "from datetime import datetime\n",
    "date = datetime.date(datetime.now())\n",
    "\n",
    "#store invoice number\n",
    "import random\n",
    "numbers = random.sample(range(10),5)\n",
    "invoice_number = ''.join(map(str,numbers))\n",
    "\n",
    "message = 'Thank you for your patronage'\n",
    "\n",
    "#Organise the invoice\n",
    "\n",
    "print(f'{seller_company_name.title():<15}')\n",
    "print(f'{seller_company_address.title():<15}')\n",
    "print(f'{seller_company_city.title():<15}')\n",
    "\n",
    "print(f'\\t\\t\\t\\t\\t\\t\\t\\t\\t\\t{seller_company_name.title():>15}')\n",
    "print(graphics.BOLD + '\\t\\t\\t\\t\\t\\t\\t\\t\\t\\tTelephone: 08131053067' + graphics.END)\n",
    "\n",
    "print(f'{buyer_company_name.title():<15}')\n",
    "print(f'{buyer_company_address.title():<15}')\n",
    "print(f'{buyer_company_city.title():<15}')\n",
    "\n",
    "print(graphics.BOLD + '\\t\\t\\t\\t\\t\\t\\t\\t\\t\\tInvoice' + graphics.END)\n",
    "\n",
    "print('\\n\\t\\t\\t\\t\\t\\t\\t\\t\\t\\tNumber:', invoice_number)\n",
    "print('\\t\\t\\t\\t\\t\\t\\t\\t\\t\\tDate: ', date)\n",
    "print('\\t\\t\\t\\t\\t\\t\\t\\t\\t\\tSales Order Requisition')\n",
    "print('\\t\\t\\t\\t\\t\\t\\t\\t\\t\\tYour Ref:  ')\n",
    "print('\\t\\t\\t\\t\\t\\t\\t\\t\\t\\tOur Ref: Nathan')\n",
    "print('\\t\\t\\t\\t\\t\\t\\t\\t\\t\\tPayment: Direct Payment')\n",
    "print(graphics.BOLD + '\\nItem Number\\t\\tDescription\\tQuantity\\tUnit Price\\tAmount\\tDiscount' + graphics.END)\n",
    "print(graphics.BOLD +'-'*100 + graphics.END)\n",
    "print('\\t\\tKaspersky Int. Sec. 4Users 5' '\\t\\t', 5000, '\\t\\t', 5000*5 )\n",
    "print('\\n\\t\\t\\t',graphics.BOLD, 'Total: 25000', graphics.END)\n",
    "print('\\n\\n\\n', graphics.BOLD, message, graphics.END)"
   ]
  },
  {
   "cell_type": "code",
   "execution_count": 10,
   "metadata": {},
   "outputs": [
    {
     "name": "stdout",
     "output_type": "stream",
     "text": [
      "2021-05-11\n"
     ]
    }
   ],
   "source": [
    "from datetime import datetime\n",
    "date = datetime.date(datetime.now())\n",
    "print(date)"
   ]
  },
  {
   "cell_type": "code",
   "execution_count": null,
   "metadata": {},
   "outputs": [],
   "source": []
  }
 ],
 "metadata": {
  "kernelspec": {
   "display_name": "Python 3",
   "language": "python",
   "name": "python3"
  },
  "language_info": {
   "codemirror_mode": {
    "name": "ipython",
    "version": 3
   },
   "file_extension": ".py",
   "mimetype": "text/x-python",
   "name": "python",
   "nbconvert_exporter": "python",
   "pygments_lexer": "ipython3",
   "version": "3.7.0"
  }
 },
 "nbformat": 4,
 "nbformat_minor": 2
}
